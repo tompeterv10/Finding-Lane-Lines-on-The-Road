{
 "cells": [
  {
   "cell_type": "code",
   "execution_count": null,
   "metadata": {
    "collapsed": true
   },
   "outputs": [],
   "source": []
  },
  {
   "cell_type": "code",
   "execution_count": 7,
   "metadata": {
    "collapsed": true
   },
   "outputs": [],
   "source": [
    "# Import everything needed to edit/save/watch video clips\n",
    "#importing some useful packages\n",
    "import matplotlib.pyplot as plt\n",
    "import matplotlib.image as mpimg\n",
    "import numpy as np\n",
    "import cv2\n",
    "from scipy import stats\n",
    "# Import everything needed to edit/save/watch video clips\n",
    "from moviepy.editor import VideoFileClip\n",
    "from IPython.display import HTML\n",
    "\n",
    "%matplotlib inline\n",
    "import math\n",
    "kernel_size = 5\n",
    "\n"
   ]
  },
  {
   "cell_type": "code",
   "execution_count": 8,
   "metadata": {},
   "outputs": [],
   "source": [
    "\n",
    "def gaussian_blur(img, kernel_size):\n",
    "    \"\"\"Applies a Gaussian Noise kernel\"\"\"\n",
    "    return cv2.GaussianBlur(img, (kernel_size, kernel_size), 0)\n",
    "\n",
    "\n",
    "\n",
    "def grayscale(img):\n",
    "    \"\"\"Applies the Grayscale transform\n",
    "    This will return an image with only one color channel\n",
    "    but NOTE: to see the returned image as grayscale\n",
    "    (assuming your grayscaled image is called 'gray')\n",
    "    you should call plt.imshow(gray, cmap='gray')\"\"\"\n",
    "    return cv2.cvtColor(img, cv2.COLOR_RGB2GRAY)\n",
    "\n",
    "def canny(img, low_threshold, high_threshold):\n",
    "    \"\"\"Applies the Canny transform\"\"\"\n",
    "    return cv2.Canny(img, low_threshold, high_threshold)\n",
    "\n",
    " \n",
    "\n",
    "def region_of_interest(img, vertices):\n",
    "    \"\"\"\n",
    "    Applies an image mask.\n",
    "    \n",
    "    Only keeps the region of the image defined by the polygon\n",
    "    formed from `vertices`. The rest of the image is set to black.\n",
    "    \"\"\"\n",
    "    #defining a blank mask to start with\n",
    "    mask = np.zeros_like(img)   \n",
    "    \n",
    "    #defining a 3 channel or 1 channel color to fill the mask with depending on the input image\n",
    "    if len(img.shape) > 2:\n",
    "        channel_count = img.shape[2]  # i.e. 3 or 4 depending on your image\n",
    "        ignore_mask_color = (255,) * channel_count\n",
    "    else:\n",
    "        ignore_mask_color = 255\n",
    "        \n",
    "    #filling pixels inside the polygon defined by \"vertices\" with the fill color    \n",
    "    cv2.fillPoly(mask, vertices, ignore_mask_color)\n",
    "    \n",
    "    #returning the image only where mask pixels are nonzero\n",
    "    masked_image = cv2.bitwise_and(img, mask)\n",
    "    return masked_image\n",
    "\n",
    "\n"
   ]
  },
  {
   "cell_type": "code",
   "execution_count": 9,
   "metadata": {
    "collapsed": true
   },
   "outputs": [],
   "source": [
    "def draw_lines(img, lines, color=[255, 0, 0], thickness=2):\n",
    "    \"\"\"\n",
    "      Draw Lines as per the color and thickness mentioned\n",
    "    \"\"\"\n",
    "    \n",
    "    # Y axis coordinates\n",
    "    Y_Max = img.shape[1]\n",
    "    Y_Min = img.shape[0] \n",
    "    \n",
    "    # Right Lane Variables\n",
    "    RightGrad = []     \n",
    "    RightGrad_Y = []     \n",
    "    RightGrad_X = []     \n",
    "    \n",
    "    # Left Lane Variables\n",
    "    LeftGrad = []\n",
    "    LeftGrad_Y = []\n",
    "    LeftGrad_X = []\n",
    "    \n",
    "    \n",
    "    for line in lines:\n",
    "        for x1,y1,x2,y2 in line:\n",
    "            gradient, intercept = np.polyfit((x1,x2), (y1,y2), 1)\n",
    "            Y_Min = min(min(y1, y2), Y_Min)\n",
    "            \n",
    "            if (gradient < 0):\n",
    "                RightGrad = RightGrad + [gradient]\n",
    "                RightGrad_Y = RightGrad_Y + [y1, y2]\n",
    "                RightGrad_X = RightGrad_X + [x1, x2]\n",
    "            else:\n",
    "                LeftGrad = LeftGrad + [gradient]\n",
    "                LeftGrad_Y = LeftGrad_Y + [y1, y2]\n",
    "                LeftGrad_X = LeftGrad_X + [x1, x2]\n",
    "    \n",
    "    \n",
    "    MeanY_Right    = np.mean(RightGrad_Y)      \n",
    "    MeanGrad_Right = np.mean(RightGrad)                         \n",
    "    MeanX_Right    = np.mean(RightGrad_X)                \n",
    "    \n",
    "    MeanX_Left    = np.mean(LeftGrad_X)  \n",
    "    MeanGrad_Left = np.mean(LeftGrad)              \n",
    "    MeanY_Left    = np.mean(LeftGrad_Y)            \n",
    "\n",
    "    Intercept_Left  = MeanY_Left  - (MeanGrad_Left * MeanX_Left)          \n",
    "    Intercept_Right = MeanY_Right - (MeanGrad_Right * MeanX_Right)                 \n",
    "    \n",
    "    if ((len(LeftGrad) > 0) and (len(RightGrad) > 0)):\n",
    "        X_UpperLeft = int((Y_Min - Intercept_Left) / MeanGrad_Left)\n",
    "        X_LowerLeft = int((Y_Max - Intercept_Left) / MeanGrad_Left)\n",
    "        X_UpperRight = int((Y_Min - Intercept_Right) / MeanGrad_Right)\n",
    "        X_LowerRight = int((Y_Max - Intercept_Right) / MeanGrad_Right)\n",
    "    \n",
    "        cv2.line(img, (X_UpperLeft, Y_Min), (X_LowerLeft, Y_Max),  color, thickness)\n",
    "        cv2.line(img, (X_UpperRight, Y_Min), (X_LowerRight, Y_Max), color, thickness)\n",
    "\n",
    "def hough_lines(img, rho, theta, threshold, min_line_len, max_line_gap):\n",
    "    \"\"\"\n",
    "    `img` should be the output of a Canny transform.\n",
    "        \n",
    "    Returns an image with hough lines drawn.\n",
    "    \"\"\"\n",
    "    lines = cv2.HoughLinesP(img, rho, theta, threshold, np.array([]), minLineLength=min_line_len, maxLineGap=max_line_gap)\n",
    "    line_img = np.zeros((img.shape[0], img.shape[1], 3), dtype=np.uint8)\n",
    "    draw_lines(line_img, lines)\n",
    "    return line_img\n",
    "        \n",
    "def weighted_img(img, initial_img, α=0.8, β=1., λ=0.):\n",
    "    \"\"\"\n",
    "    `img` is the output of the hough_lines(), An image with lines drawn on it.\n",
    "    Should be a blank image (all black) with lines drawn on it.\n",
    "    \n",
    "    `initial_img` should be the image before any processing.\n",
    "    \n",
    "    The result image is computed as follows:\n",
    "    \n",
    "    initial_img * α + img * β + λ\n",
    "    NOTE: initial_img and img must be the same shape!\n",
    "    \"\"\"\n",
    "    return cv2.addWeighted(initial_img, α, img, β, λ)        \n",
    "        \n",
    "        "
   ]
  },
  {
   "cell_type": "code",
   "execution_count": 10,
   "metadata": {
    "collapsed": true
   },
   "outputs": [],
   "source": [
    "\n",
    "def process_image(image):\n",
    "    # NOTE: The output you return should be a color image (3 channel) for processing video below\n",
    "    # TODO: put your pipeline here,\n",
    "    # you should return the final output (image where lines are drawn on lanes)\n",
    "\n",
    "    img1 = grayscale(image)    \n",
    "    blur_gray =  gaussian_blur(img1, kernel_size)\n",
    "    low_threshold = 50\n",
    "    high_threshold = 150    \n",
    "    cannyImg = canny(blur_gray, low_threshold, high_threshold)  \n",
    "    imshape = image.shape\n",
    "    vertices = np.array([[(0,imshape[0]),(450, 320), (490, 320), (imshape[1],imshape[0])]], dtype=np.int32)   \n",
    "    maskedImage = region_of_interest(cannyImg, vertices)      \n",
    "    rho          = 2\n",
    "    theta        = np.pi/180\n",
    "    threshold    = 15\n",
    "    min_line_len = 40\n",
    "    max_line_gap = 20    \n",
    "    line_img = hough_lines(maskedImage, rho, theta, threshold, min_line_len, max_line_gap)\n",
    "    WImg  = weighted_img(line_img, image, α=0.8, β=1., λ=0.)\n",
    "    result = WImg\n",
    "    return result\n",
    "\n",
    "\n"
   ]
  },
  {
   "cell_type": "code",
   "execution_count": 11,
   "metadata": {},
   "outputs": [
    {
     "name": "stdout",
     "output_type": "stream",
     "text": [
      "[MoviePy] >>>> Building video test_videos_output/solidYellowLeft.mp4\n",
      "[MoviePy] Writing video test_videos_output/solidYellowLeft.mp4\n"
     ]
    },
    {
     "name": "stderr",
     "output_type": "stream",
     "text": [
      "100%|███████████████████████████████████████▉| 681/682 [00:49<00:00, 14.68it/s]\n"
     ]
    },
    {
     "name": "stdout",
     "output_type": "stream",
     "text": [
      "[MoviePy] Done.\n",
      "[MoviePy] >>>> Video ready: test_videos_output/solidYellowLeft.mp4 \n",
      "\n",
      "Wall time: 51.4 s\n"
     ]
    }
   ],
   "source": [
    "\n",
    "white_output = 'test_videos_output/solidYellowLeft.mp4'\n",
    "## To speed up the testing process you may want to try your pipeline on a shorter subclip of the video\n",
    "## To do so add .subclip(start_second,end_second) to the end of the line below\n",
    "## Where start_second and end_second are integer values representing the start and end of the subclip\n",
    "## You may also uncomment the following line for a subclip of the first 5 seconds\n",
    "##clip1 = VideoFileClip(\"test_videos/solidWhiteRight.mp4\").subclip(0,5)\n",
    "clip1 = VideoFileClip(\"test_videos/solidYellowLeft.mp4\")\n",
    "white_clip = clip1.fl_image(process_image) #NOTE: this function expects color images!!\n",
    "%time white_clip.write_videofile(white_output, audio=False)\n",
    "\n"
   ]
  },
  {
   "cell_type": "code",
   "execution_count": 12,
   "metadata": {},
   "outputs": [
    {
     "data": {
      "text/html": [
       "\n",
       "<video width=\"960\" height=\"540\" controls>\n",
       "  <source src=\"test_videos_output/solidYellowLeft.mp4\">\n",
       "</video>\n"
      ],
      "text/plain": [
       "<IPython.core.display.HTML object>"
      ]
     },
     "execution_count": 12,
     "metadata": {},
     "output_type": "execute_result"
    }
   ],
   "source": [
    "HTML(\"\"\"\n",
    "<video width=\"960\" height=\"540\" controls>\n",
    "  <source src=\"{0}\">\n",
    "</video>\n",
    "\"\"\".format(white_output))"
   ]
  }
 ],
 "metadata": {
  "kernelspec": {
   "display_name": "Environment (conda_carnd-term1)",
   "language": "python",
   "name": "conda_carnd-term1"
  },
  "language_info": {
   "codemirror_mode": {
    "name": "ipython",
    "version": 3
   },
   "file_extension": ".py",
   "mimetype": "text/x-python",
   "name": "python",
   "nbconvert_exporter": "python",
   "pygments_lexer": "ipython3",
   "version": "3.5.2"
  },
  "widgets": {
   "state": {},
   "version": "1.1.2"
  }
 },
 "nbformat": 4,
 "nbformat_minor": 2
}
